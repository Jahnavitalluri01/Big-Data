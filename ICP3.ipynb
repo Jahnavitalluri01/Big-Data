{
  "nbformat": 4,
  "nbformat_minor": 0,
  "metadata": {
    "colab": {
      "provenance": [],
      "authorship_tag": "ABX9TyOnItqvnPB9meGCWsneS6Rg",
      "include_colab_link": true
    },
    "kernelspec": {
      "name": "python3",
      "display_name": "Python 3"
    },
    "language_info": {
      "name": "python"
    }
  },
  "cells": [
    {
      "cell_type": "markdown",
      "metadata": {
        "id": "view-in-github",
        "colab_type": "text"
      },
      "source": [
        "<a href=\"https://colab.research.google.com/github/Jahnavitalluri01/Big-Data/blob/main/ICP3.ipynb\" target=\"_parent\"><img src=\"https://colab.research.google.com/assets/colab-badge.svg\" alt=\"Open In Colab\"/></a>"
      ]
    },
    {
      "cell_type": "code",
      "execution_count": null,
      "metadata": {
        "colab": {
          "base_uri": "https://localhost:8080/"
        },
        "id": "e19mDjzO476P",
        "outputId": "2c4428be-5346-439b-eb57-b2256ceb7150"
      },
      "outputs": [
        {
          "output_type": "stream",
          "name": "stdout",
          "text": [
            "Shape of array: (3, 5)\n",
            "Original array:\n",
            " [[ 8 19 14  1 18]\n",
            " [ 5  6 10  6  9]\n",
            " [12  2  9 16  7]]\n",
            "Modified array:\n",
            " [[ 8  0 14  1 18]\n",
            " [ 5  6  0  6  9]\n",
            " [12  2  9  0  7]]\n"
          ]
        }
      ],
      "source": [
        "import numpy as np\n",
        "\n",
        "arr = np.random.randint(1, 21, size=15)\n",
        "\n",
        "arr = arr.reshape(3, 5)\n",
        "\n",
        "print(\"Shape of array:\", arr.shape)\n",
        "\n",
        "print(\"Original array:\\n\", arr)\n",
        "\n",
        "for i in range(arr.shape[0]):\n",
        "    maxx = arr[i].argmax()\n",
        "    arr[i][maxx] = 0\n",
        "\n",
        "print(\"Modified array:\\n\", arr)\n"
      ]
    },
    {
      "cell_type": "code",
      "source": [
        "import numpy as np\n",
        "\n",
        "arr = np.array([[1, 2, 3],\n",
        "                [4, 5, 6],\n",
        "                [7, 8, 9],\n",
        "                [10, 11, 12]])\n",
        "\n",
        "print(\"Array:\\n\", arr)\n",
        "print(\"Shape:\", arr.shape)\n",
        "print(\"Type:\", type(arr))\n",
        "print(\"Data type:\", arr.dtype)\n"
      ],
      "metadata": {
        "colab": {
          "base_uri": "https://localhost:8080/"
        },
        "id": "ji_40yup5uTB",
        "outputId": "61a9193e-3a46-4eb5-8a8e-4c3f638a6067"
      },
      "execution_count": null,
      "outputs": [
        {
          "output_type": "stream",
          "name": "stdout",
          "text": [
            "Array:\n",
            " [[ 1  2  3]\n",
            " [ 4  5  6]\n",
            " [ 7  8  9]\n",
            " [10 11 12]]\n",
            "Shape: (4, 3)\n",
            "Type: <class 'numpy.ndarray'>\n",
            "Data type: int64\n"
          ]
        }
      ]
    },
    {
      "cell_type": "code",
      "source": [
        "import numpy as np\n",
        "\n",
        "arr1 = np.array([[3, -2],\n",
        "              [1,  0]])\n",
        "\n",
        "eigenvalues, eigenvectors = np.linalg.eig(arr1)\n",
        "\n",
        "print(\"Eigenvalues:\")\n",
        "print(eigenvalues)\n",
        "print(\"\\nRight eigenvectors:\")\n",
        "print(eigenvectors)\n"
      ],
      "metadata": {
        "colab": {
          "base_uri": "https://localhost:8080/"
        },
        "id": "izOzQDYo5_oF",
        "outputId": "f9f296b7-e47d-4663-a480-6a15c320f8dd"
      },
      "execution_count": null,
      "outputs": [
        {
          "output_type": "stream",
          "name": "stdout",
          "text": [
            "Eigenvalues:\n",
            "[2. 1.]\n",
            "\n",
            "Right eigenvectors:\n",
            "[[0.89442719 0.70710678]\n",
            " [0.4472136  0.70710678]]\n"
          ]
        }
      ]
    },
    {
      "cell_type": "code",
      "source": [
        "import numpy as np\n",
        "\n",
        "arr = np.array([[0, 1, 2],\n",
        "                [3, 4, 5]])\n",
        "\n",
        "sum = np.trace(arr)\n",
        "\n",
        "print(\"Sum of diagonal elements:\", sum)"
      ],
      "metadata": {
        "colab": {
          "base_uri": "https://localhost:8080/"
        },
        "id": "8eXI7ux-7OBy",
        "outputId": "028e8f47-03c7-4eea-db77-56a64809fdfb"
      },
      "execution_count": null,
      "outputs": [
        {
          "output_type": "stream",
          "name": "stdout",
          "text": [
            "Sum of diagonal elements: 4\n"
          ]
        }
      ]
    },
    {
      "cell_type": "code",
      "source": [
        "arr = np.array([[1, 2],\n",
        "                [3, 4],\n",
        "                [5, 6]])\n",
        "\n",
        "reshaped_arr = arr.reshape(2, 3)\n",
        "\n",
        "print(\"Original array:\")\n",
        "print(arr)\n",
        "\n",
        "print(\"\\nReshaped array:\")\n",
        "print(reshaped_arr)"
      ],
      "metadata": {
        "colab": {
          "base_uri": "https://localhost:8080/"
        },
        "id": "8AfxgHYE7fcC",
        "outputId": "f81074b8-46e7-49df-eded-aadc39ebe9fe"
      },
      "execution_count": null,
      "outputs": [
        {
          "output_type": "stream",
          "name": "stdout",
          "text": [
            "Original array:\n",
            "[[1 2]\n",
            " [3 4]\n",
            " [5 6]]\n",
            "\n",
            "Reshaped array:\n",
            "[[1 2 3]\n",
            " [4 5 6]]\n"
          ]
        }
      ]
    },
    {
      "cell_type": "code",
      "source": [
        "https://drive.google.com/file/d/1m59nK3t-fMAMiXlw30mkOoQ5JpQnrlgO/view?usp=sharing"
      ],
      "metadata": {
        "id": "A7pQLVLEm5n2"
      },
      "execution_count": null,
      "outputs": []
    }
  ]
}