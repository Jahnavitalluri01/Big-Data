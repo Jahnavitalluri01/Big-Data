{
  "nbformat": 4,
  "nbformat_minor": 0,
  "metadata": {
    "colab": {
      "provenance": [],
      "authorship_tag": "ABX9TyN5AbFPcVEYyUCbV1mtq6Tw",
      "include_colab_link": true
    },
    "kernelspec": {
      "name": "python3",
      "display_name": "Python 3"
    },
    "language_info": {
      "name": "python"
    }
  },
  "cells": [
    {
      "cell_type": "markdown",
      "metadata": {
        "id": "view-in-github",
        "colab_type": "text"
      },
      "source": [
        "<a href=\"https://colab.research.google.com/github/Jahnavitalluri01/Big-Data/blob/main/BigDataAss1.ipynb\" target=\"_parent\"><img src=\"https://colab.research.google.com/assets/colab-badge.svg\" alt=\"Open In Colab\"/></a>"
      ]
    },
    {
      "cell_type": "code",
      "execution_count": 21,
      "metadata": {
        "id": "ks2wBlb817WK",
        "colab": {
          "base_uri": "https://localhost:8080/"
        },
        "outputId": "758ba64e-07a6-4164-889c-0e188fe06acd"
      },
      "outputs": [
        {
          "output_type": "stream",
          "name": "stdout",
          "text": [
            "Enter the input string:python\n",
            "nhty\n"
          ]
        }
      ],
      "source": [
        "list1 = list(input(\"Enter the input string:\"))\n",
        "list1.remove('p')\n",
        "list1.remove('o')\n",
        "list1.reverse()\n",
        "result = ''.join(list1)\n",
        "print(result)\n"
      ]
    },
    {
      "cell_type": "code",
      "source": [],
      "metadata": {
        "id": "miw8LOlkHzby"
      },
      "execution_count": null,
      "outputs": []
    },
    {
      "cell_type": "code",
      "source": [
        "x1=int(input(\"Enter First Number:\"))\n",
        "x2=int(input(\"Enter second Number:\"))\n",
        "add=x1+x2\n",
        "sub=x1-x2\n",
        "mul=x1*x2\n",
        "div=x1/x2\n",
        "print(\"Addition of x1 and x2:\",add)\n",
        "print(\"Subtraction of x1 and x2:\",sub)\n",
        "print(\"Multiplication of x1 and x2:\",mul)\n",
        "print(\"Deletion of x1 and x2:\",div)\n"
      ],
      "metadata": {
        "colab": {
          "base_uri": "https://localhost:8080/"
        },
        "id": "H2JMEVRP4C4F",
        "outputId": "aa69b897-da51-489e-c692-db529895d4f0"
      },
      "execution_count": 22,
      "outputs": [
        {
          "output_type": "stream",
          "name": "stdout",
          "text": [
            "Enter First Number:20\n",
            "Enter second Number:10\n",
            "Addition of x1 and x2: 30\n",
            "Subtraction of x1 and x2: 10\n",
            "Multiplication of x1 and x2: 200\n",
            "Deletion of x1 and x2: 2.0\n"
          ]
        }
      ]
    },
    {
      "cell_type": "code",
      "source": [
        "sentence1 = input(\"Enter any sentence: \")\n",
        "\n",
        "modifiedsentence1 = sentence1.replace(\"python\", \"pythons\")\n",
        "\n",
        "\n",
        "print(modifiedsentence1)"
      ],
      "metadata": {
        "colab": {
          "base_uri": "https://localhost:8080/"
        },
        "id": "NDMocLx55DgI",
        "outputId": "b859d242-1283-40ff-ffab-8e3b9ca61aa6"
      },
      "execution_count": 23,
      "outputs": [
        {
          "output_type": "stream",
          "name": "stdout",
          "text": [
            "Enter any sentence: i have a class python\n",
            "i have a class pythons\n"
          ]
        }
      ]
    },
    {
      "cell_type": "code",
      "source": [
        "score = int(input(\"Enter your score: \"))\n",
        "\n",
        "if score >= 90:\n",
        "    print(\"Your Grade is: A\")\n",
        "elif score >= 80:\n",
        "    print(\"Your Grade is: B\")\n",
        "elif score >= 70:\n",
        "    print(\"Your Grade is: C\")\n",
        "elif score >= 60:\n",
        "    print(\"Your Grade is: D\")\n",
        "else:\n",
        "    print(\"Your Grade is: F\")"
      ],
      "metadata": {
        "colab": {
          "base_uri": "https://localhost:8080/"
        },
        "id": "Pu7r_ul85ib4",
        "outputId": "24add65b-bece-493f-9814-70e26233ccb5"
      },
      "execution_count": 24,
      "outputs": [
        {
          "output_type": "stream",
          "name": "stdout",
          "text": [
            "Enter your score: 75\n",
            "Your Grade is: C\n"
          ]
        }
      ]
    },
    {
      "cell_type": "code",
      "source": [
        "list2 = [23, 'Python', 23.98]\n",
        "print(list2)\n",
        "typesoflistitems = [type(i) for i in list2]\n",
        "print(typesoflistitems)\n"
      ],
      "metadata": {
        "colab": {
          "base_uri": "https://localhost:8080/"
        },
        "id": "5CigKyKu5-0W",
        "outputId": "3edf7e17-be96-47e8-e84b-3862ae1a398e"
      },
      "execution_count": 25,
      "outputs": [
        {
          "output_type": "stream",
          "name": "stdout",
          "text": [
            "[23, 'Python', 23.98]\n",
            "[<class 'int'>, <class 'str'>, <class 'float'>]\n"
          ]
        }
      ]
    },
    {
      "cell_type": "code",
      "source": [
        "IT_companies = {'Facebook', 'Google', 'Microsoft', 'Apple', 'IBM', 'Oracle', 'Amazon'}\n",
        "A = {19, 22, 24, 20, 25, 26}\n",
        "B = {19, 22, 20, 25, 26, 24, 28, 27}\n",
        "age = [22, 19, 24, 25, 26, 24, 25, 24]\n"
      ],
      "metadata": {
        "id": "gpS3-hoa6uBg"
      },
      "execution_count": 26,
      "outputs": []
    },
    {
      "cell_type": "code",
      "source": [
        "print(\"Length of IT_companies:\", len(IT_companies))"
      ],
      "metadata": {
        "colab": {
          "base_uri": "https://localhost:8080/"
        },
        "id": "Vp2xyQXQ63La",
        "outputId": "d1ef110d-1e62-4ce7-9d2b-adbb2fa58a55"
      },
      "execution_count": 27,
      "outputs": [
        {
          "output_type": "stream",
          "name": "stdout",
          "text": [
            "Length of IT_companies: 7\n"
          ]
        }
      ]
    },
    {
      "cell_type": "code",
      "source": [
        "IT_companies.add('Twitter')\n",
        "print(\"After adding Twitter to set:\", IT_companies)"
      ],
      "metadata": {
        "colab": {
          "base_uri": "https://localhost:8080/"
        },
        "id": "BjkJsSxR69fg",
        "outputId": "abf35aa3-b562-4f0b-85ff-2274c7285263"
      },
      "execution_count": 28,
      "outputs": [
        {
          "output_type": "stream",
          "name": "stdout",
          "text": [
            "After adding Twitter to set: {'Apple', 'Oracle', 'Facebook', 'Amazon', 'IBM', 'Microsoft', 'Twitter', 'Google'}\n"
          ]
        }
      ]
    },
    {
      "cell_type": "code",
      "source": [
        "IT_companies.update(['Tesla', 'Adobe', 'Intel'])\n",
        "print(\"After adding multiple companies to set:\", IT_companies)"
      ],
      "metadata": {
        "colab": {
          "base_uri": "https://localhost:8080/"
        },
        "id": "6fyiTIj87J2p",
        "outputId": "033f0ec2-975e-4908-8abb-99446422b580"
      },
      "execution_count": 29,
      "outputs": [
        {
          "output_type": "stream",
          "name": "stdout",
          "text": [
            "After adding multiple companies to set: {'Apple', 'Oracle', 'Microsoft', 'Adobe', 'Intel', 'Twitter', 'Google', 'Tesla', 'Facebook', 'Amazon', 'IBM'}\n"
          ]
        }
      ]
    },
    {
      "cell_type": "code",
      "source": [
        "IT_companies.remove('IBM')\n",
        "print(\"After removing IBM from set:\", IT_companies)"
      ],
      "metadata": {
        "colab": {
          "base_uri": "https://localhost:8080/"
        },
        "id": "sxACfkOE7SZL",
        "outputId": "8dbf707e-58ca-46e0-d6a1-1e9fd446eda2"
      },
      "execution_count": 30,
      "outputs": [
        {
          "output_type": "stream",
          "name": "stdout",
          "text": [
            "After removing IBM from set: {'Apple', 'Oracle', 'Microsoft', 'Adobe', 'Intel', 'Twitter', 'Google', 'Tesla', 'Facebook', 'Amazon'}\n"
          ]
        }
      ]
    },
    {
      "cell_type": "code",
      "source": [
        "IT_companies.discard('Sony')\n"
      ],
      "metadata": {
        "id": "gN8Tb_0a7gLE"
      },
      "execution_count": 11,
      "outputs": []
    },
    {
      "cell_type": "code",
      "source": [
        "IT_companies.remove('Sony')\n",
        "# Discard will ignore if the element doesn't Exist but remove will raise Key Error"
      ],
      "metadata": {
        "colab": {
          "base_uri": "https://localhost:8080/",
          "height": 158
        },
        "id": "yHWybw3t7vER",
        "outputId": "3a3c1843-9756-423a-b555-0fd2198e7405"
      },
      "execution_count": 31,
      "outputs": [
        {
          "output_type": "error",
          "ename": "KeyError",
          "evalue": "'Sony'",
          "traceback": [
            "\u001b[0;31m---------------------------------------------------------------------------\u001b[0m",
            "\u001b[0;31mKeyError\u001b[0m                                  Traceback (most recent call last)",
            "\u001b[0;32m/tmp/ipython-input-31-3184089834.py\u001b[0m in \u001b[0;36m<cell line: 0>\u001b[0;34m()\u001b[0m\n\u001b[0;32m----> 1\u001b[0;31m \u001b[0mIT_companies\u001b[0m\u001b[0;34m.\u001b[0m\u001b[0mremove\u001b[0m\u001b[0;34m(\u001b[0m\u001b[0;34m'Sony'\u001b[0m\u001b[0;34m)\u001b[0m\u001b[0;34m\u001b[0m\u001b[0;34m\u001b[0m\u001b[0m\n\u001b[0m\u001b[1;32m      2\u001b[0m \u001b[0;31m# Discard will ignore if the element doesn't Exist but remove will raise Key Error\u001b[0m\u001b[0;34m\u001b[0m\u001b[0;34m\u001b[0m\u001b[0m\n",
            "\u001b[0;31mKeyError\u001b[0m: 'Sony'"
          ]
        }
      ]
    },
    {
      "cell_type": "code",
      "source": [
        "joinedset = A.union(B)\n",
        "print(\"Join of A and B:\", joinedset)"
      ],
      "metadata": {
        "colab": {
          "base_uri": "https://localhost:8080/"
        },
        "id": "06Y3S__8705U",
        "outputId": "cfceb0e0-d5f7-48d3-ac31-8bec77b60378"
      },
      "execution_count": 32,
      "outputs": [
        {
          "output_type": "stream",
          "name": "stdout",
          "text": [
            "Join of A and B: {19, 20, 22, 24, 25, 26, 27, 28}\n"
          ]
        }
      ]
    },
    {
      "cell_type": "code",
      "source": [
        "intersection = A.intersection(B)\n",
        "print(\"Intersection of A and B:\", intersection)"
      ],
      "metadata": {
        "colab": {
          "base_uri": "https://localhost:8080/"
        },
        "id": "A5wY1NkD7_ST",
        "outputId": "88a5b9e2-1b82-4183-92f0-90d35b9ad0c0"
      },
      "execution_count": 33,
      "outputs": [
        {
          "output_type": "stream",
          "name": "stdout",
          "text": [
            "Intersection of A and B: {19, 20, 22, 24, 25, 26}\n"
          ]
        }
      ]
    },
    {
      "cell_type": "code",
      "source": [
        "print(\"Is A subset of B:\", A.issubset(B))"
      ],
      "metadata": {
        "colab": {
          "base_uri": "https://localhost:8080/"
        },
        "id": "rbnCNBrM8DD_",
        "outputId": "f4edff6e-53ac-46ef-b0b5-8fd89429797e"
      },
      "execution_count": 34,
      "outputs": [
        {
          "output_type": "stream",
          "name": "stdout",
          "text": [
            "Is A subset of B: True\n"
          ]
        }
      ]
    },
    {
      "cell_type": "code",
      "source": [
        "print(\"Are A and B disjoint:\", A.isdisjoint(B))"
      ],
      "metadata": {
        "colab": {
          "base_uri": "https://localhost:8080/"
        },
        "id": "26aVmft-8HAZ",
        "outputId": "c3e3a515-39c0-4205-f772-bfca8ef344d4"
      },
      "execution_count": 35,
      "outputs": [
        {
          "output_type": "stream",
          "name": "stdout",
          "text": [
            "Are A and B disjoint: False\n"
          ]
        }
      ]
    },
    {
      "cell_type": "code",
      "source": [
        "print(\"A union B:\", A.union(B))\n",
        "print(\"B union A:\", B.union(A))"
      ],
      "metadata": {
        "colab": {
          "base_uri": "https://localhost:8080/"
        },
        "id": "sGpDZ5vY8P8d",
        "outputId": "7f71ac8e-14a3-41bb-a1c6-7251f18bebda"
      },
      "execution_count": 36,
      "outputs": [
        {
          "output_type": "stream",
          "name": "stdout",
          "text": [
            "A union B: {19, 20, 22, 24, 25, 26, 27, 28}\n",
            "B union A: {19, 20, 22, 24, 25, 26, 27, 28}\n"
          ]
        }
      ]
    },
    {
      "cell_type": "code",
      "source": [
        "sym_diff = A.symmetric_difference(B)\n",
        "print(\"Symmetric difference between A and B:\", sym_diff)"
      ],
      "metadata": {
        "colab": {
          "base_uri": "https://localhost:8080/"
        },
        "id": "ZktBD75f8T8P",
        "outputId": "120a43a9-b934-4e20-cefd-b082fba03aa5"
      },
      "execution_count": 37,
      "outputs": [
        {
          "output_type": "stream",
          "name": "stdout",
          "text": [
            "Symmetric difference between A and B: {27, 28}\n"
          ]
        }
      ]
    },
    {
      "cell_type": "code",
      "source": [
        "del A\n",
        "del B"
      ],
      "metadata": {
        "id": "RtOzBjif8YXU"
      },
      "execution_count": 38,
      "outputs": []
    },
    {
      "cell_type": "code",
      "source": [
        "age_set = set(age)\n",
        "print(\"Length of age list:\", len(age))\n",
        "print(\"Length of age set:\", len(age_set))"
      ],
      "metadata": {
        "colab": {
          "base_uri": "https://localhost:8080/"
        },
        "id": "TbWEwjBU8d1g",
        "outputId": "0d9fe7e0-d3fe-4a52-dee0-28d2f773e101"
      },
      "execution_count": 39,
      "outputs": [
        {
          "output_type": "stream",
          "name": "stdout",
          "text": [
            "Length of age list: 8\n",
            "Length of age set: 5\n"
          ]
        }
      ]
    },
    {
      "cell_type": "code",
      "source": [
        "https://drive.google.com/file/d/1KMGTY6Re0-qjpYSksy7LP41yxfxbgNVA/view?usp=sharing\n",
        "#Link of Video"
      ],
      "metadata": {
        "id": "mRgwW1BrH0gi"
      },
      "execution_count": null,
      "outputs": []
    }
  ]
}