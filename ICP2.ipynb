{
  "nbformat": 4,
  "nbformat_minor": 0,
  "metadata": {
    "colab": {
      "provenance": [],
      "authorship_tag": "ABX9TyN14sZcc0aRZEnEkb2jjiBN",
      "include_colab_link": true
    },
    "kernelspec": {
      "name": "python3",
      "display_name": "Python 3"
    },
    "language_info": {
      "name": "python"
    }
  },
  "cells": [
    {
      "cell_type": "markdown",
      "metadata": {
        "id": "view-in-github",
        "colab_type": "text"
      },
      "source": [
        "<a href=\"https://colab.research.google.com/github/Jahnavitalluri01/Big-Data/blob/main/ICP2.ipynb\" target=\"_parent\"><img src=\"https://colab.research.google.com/assets/colab-badge.svg\" alt=\"Open In Colab\"/></a>"
      ]
    },
    {
      "cell_type": "code",
      "execution_count": null,
      "metadata": {
        "id": "u3y5h2PXHEN4"
      },
      "outputs": [],
      "source": [
        "The difference between the Counter.count and self.count is Counter.count refers to class member and self.count refers to instance member.\n",
        "Counter.count is used when it is common to all instances and self.countrefers to specific instance. The word self refers the instance."
      ]
    },
    {
      "cell_type": "code",
      "source": [
        "The outputs:\n",
        "a.get_counts(): Instance count: 2, Class count: 3\n",
        "b.get_counts(): Instance count: 1, Class count: 3"
      ],
      "metadata": {
        "id": "IEfYlFiEIvzG"
      },
      "execution_count": null,
      "outputs": []
    },
    {
      "cell_type": "code",
      "source": [
        "The increment method updates two variables i.e., self.count and Counter.count.\n",
        "The increment method increments the count of a specific instance and increases the count variable for the class.\n",
        "So if object a calls the increment method it increments the object value as well as class value.\n",
        "For example: if a.increment() is called Instance count : 1, Class count: 1 (After calling a.get_count() to print)\n",
        "            if b.increment() is called Instance count : 1, Class count: 2 (After calling b.get_count() to print)"
      ],
      "metadata": {
        "id": "pyATkiRCJQAR"
      },
      "execution_count": null,
      "outputs": []
    },
    {
      "cell_type": "code",
      "source": [
        "The bug is instead of args it should be *args in the function definition.\n",
        "As the function call is passing multiple parameters they need to be grouped together.\n",
        "Only args is a single parameter so we should replace it with *args\n",
        "Replaced code:\n",
        "def sum_all(*args):\n",
        "  return sum(args)\n",
        "Remaining the Same.\n",
        "print(...)"
      ],
      "metadata": {
        "id": "2gspMJAJK0GL"
      },
      "execution_count": null,
      "outputs": []
    },
    {
      "cell_type": "code",
      "source": [
        "def first_word():\n",
        "  l=input(\"Enter string names with space separated:\").split(\" \")\n",
        "  l.sort()\n",
        "  print(l[0])\n",
        "first_word()"
      ],
      "metadata": {
        "id": "aPZtKd_hLyJv",
        "colab": {
          "base_uri": "https://localhost:8080/"
        },
        "outputId": "e397156d-73f3-41ae-d625-61dbb8422cfe"
      },
      "execution_count": null,
      "outputs": [
        {
          "output_type": "stream",
          "name": "stdout",
          "text": [
            "Enter string names with space separated:kavya aravind jaanu\n",
            "aravind\n"
          ]
        }
      ]
    },
    {
      "cell_type": "code",
      "source": [
        "class Employee:\n",
        "  countofemployee = 0\n",
        "  def __init__(self, name, family, salary, department):\n",
        "        self.name = name\n",
        "        self.family = family\n",
        "        self.salary = salary\n",
        "        self.department = department\n",
        "        Employee.countofemployee += 1\n",
        "  def average_salary(x):\n",
        "        return x.salary / x.countofemployee\n",
        "class FulltimeEmployee(Employee):\n",
        "    def __init__(self, name, family, salary, department):\n",
        "        super().__init__(name, family, salary, department)\n",
        "\n",
        "e1 = Employee(\"Jaanu\", \"Talluri\", 50000, \"Computer Science\")\n",
        "e2 = FulltimeEmployee(\"Bobby\", \"Kadi\", 70000, \"Mechanical\")\n",
        "\n",
        "print(\"Total Employees:\",e1.countofemployee)\n",
        "print(\"Average Salary:\", e1.average_salary())\n",
        "\n",
        "print(\"Total Employees:\",e2.countofemployee)\n",
        "print(\"Average Salary:\", e2.average_salary())"
      ],
      "metadata": {
        "id": "NRgFZ1KyNVQa",
        "colab": {
          "base_uri": "https://localhost:8080/"
        },
        "outputId": "472c070a-7dcf-4c1f-b9e7-8e94bf45877d"
      },
      "execution_count": null,
      "outputs": [
        {
          "output_type": "stream",
          "name": "stdout",
          "text": [
            "Total Employees: 2\n",
            "Average Salary: 25000.0\n",
            "Total Employees: 2\n",
            "Average Salary: 35000.0\n"
          ]
        }
      ]
    }
  ]
}